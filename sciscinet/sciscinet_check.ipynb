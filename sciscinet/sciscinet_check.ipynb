{
 "cells": [
  {
   "cell_type": "code",
   "execution_count": null,
   "metadata": {},
   "outputs": [
    {
     "name": "stdout",
     "output_type": "stream",
     "text": [
      "⚠️ 133368289개의 문제가 있는 행이 발견됨\n",
      "첫 10개의 문제 있는 행 인덱스: [('2789336', nan, 'Journal', '2008.0', '2008-01-01', '204851967.0', nan, '1.0', '1.0'), ('9552966', nan, 'Journal', '2005.0', '2005-05-01', '2737568815.0', nan, '0.0', '0.0'), ('9694411', nan, 'Conference', '1994.0', '1994-01-01', nan, '2755927266.0', '0.0', '0.0'), ('14355006', nan, 'Repository', '2011.0', '2011-01-01', '3121261024.0', nan, '0.0', '0.0'), ('14558443', '10.1007/978-3-662-45174-8_28', 'Conference', '2014.0', '2014-10-12', nan, '1131603458.0', '14.0', nan), ('15354235', '10.1007/978-3-662-44777-2_60', 'Conference', '2014.0', '2014-09-08', nan, '1154039276.0', '9.0', nan), ('16763247', '10.22004/AG.ECON.174942', 'Repository', '2014.0', '2014-01-01', '3121261024.0', nan, '0.0', nan), ('19586282', nan, 'Journal', '2007.0', '2007-07-01', '131967590.0', nan, '0.0', '0.0'), ('21605082', nan, 'Conference', '2001.0', '2001-04-01', nan, '1190393634.0', '18.0', '14.0'), ('23032558', nan, 'Journal', '1997.0', '1997-10-01', '2755313529.0', nan, '4.0', '3.0')]\n"
     ]
    }
   ],
   "source": [
    "import pandas as pd\n",
    "\n",
    "file_path = \"I:/Data_for_practice/SciSciNet/SciSciNet_Papers.tsv\"\n",
    "\n",
    "chunk_size = 1000000  \n",
    "col_names = [\n",
    "    \"PaperID\", \"DOI\", \"DocType\", \"PaperTitle\", \"BookTitle\", \"Year\", \"Date\", \"Publisher\", \n",
    "    \"JournalID\", \"ConferenceSeriesID\", \"Volume\", \"Issue\", \"FirstPage\", \"LastPage\", \n",
    "    \"ReferenceCount\", \"CitationCount\", \"OriginalVenue\", \"FamilyID\", \"RetractionType\"\n",
    "]\n",
    "\n",
    "error_rows = []\n",
    "\n",
    "for chunk in pd.read_csv(file_path, sep=\"\\t\", names=col_names, dtype=str, chunksize=chunk_size, on_bad_lines=\"skip\"):\n",
    "    chunk[\"column_count\"] = chunk.apply(lambda row: row.count(), axis=1)  \n",
    "    \n",
    "    error_rows.extend(chunk[chunk[\"column_count\"] != len(col_names)].index.tolist())\n",
    "\n",
    "if error_rows:\n",
    "    print(f\"⚠️ {len(error_rows)}개의 문제가 있는 행이 발견됨\")\n",
    "    print(\"첫 10개의 문제 있는 행 인덱스:\", error_rows[:10])\n",
    "else:\n",
    "    print(\"✅ 모든 행이 정상적인 컬럼 개수를 가지고 있음!\")\n"
   ]
  },
  {
   "cell_type": "code",
   "execution_count": null,
   "metadata": {},
   "outputs": [
    {
     "name": "stdout",
     "output_type": "stream",
     "text": [
      "num_columns\n",
      "28    10\n",
      "Name: count, dtype: int64\n",
      "파일의 총 컬럼 개수: 29\n",
      "    PaperID                           DOI     DocType    Year        Date  \\\n",
      "0   2789336                           NaN     Journal  2008.0  2008-01-01   \n",
      "1   9552966                           NaN     Journal  2005.0  2005-05-01   \n",
      "2   9694411                           NaN  Conference  1994.0  1994-01-01   \n",
      "3  14355006                           NaN  Repository  2011.0  2011-01-01   \n",
      "4  14558443  10.1007/978-3-662-45174-8_28  Conference  2014.0  2014-10-12   \n",
      "\n",
      "      JournalID ConferenceSeriesID Citation_Count  C10 Reference_Count  ...  \\\n",
      "0   204851967.0                NaN            1.0  1.0            13.0  ...   \n",
      "1  2737568815.0                NaN            0.0  0.0            37.0  ...   \n",
      "2           NaN       2755927266.0            0.0  0.0             0.0  ...   \n",
      "3  3121261024.0                NaN            0.0  0.0             0.0  ...   \n",
      "4           NaN       1131603458.0           14.0  NaN            11.0  ...   \n",
      "\n",
      "  Patent_Count Newsfeed_Count Tweet_Count NCT_Count NIH_Count NSF_Count  \\\n",
      "0            0              0           0         0         0         0   \n",
      "1            0              0           0         0         0         0   \n",
      "2            0              0           0         0         0         0   \n",
      "3            0              0           0         0         0         0   \n",
      "4            0              0           0         0         0         2   \n",
      "\n",
      "  WSB_mu WSB_sigma WSB_Cinf num_columns  \n",
      "0    NaN       NaN      NaN          28  \n",
      "1    NaN       NaN      NaN          28  \n",
      "2    NaN       NaN      NaN          28  \n",
      "3    NaN       NaN      NaN          28  \n",
      "4    NaN       NaN      NaN          28  \n",
      "\n",
      "[5 rows x 29 columns]\n"
     ]
    }
   ],
   "source": [
    "import pandas as pd\n",
    "\n",
    "file_path = \"I:/Data_for_practice/SciSciNet/SciSciNet_Papers.tsv\"\n",
    "\n",
    "df = pd.read_csv(file_path, sep=\"\\t\", dtype=str, nrows=10)\n",
    "\n",
    "df[\"num_columns\"] = df.apply(lambda row: len(row.values), axis=1)\n",
    "print(df[\"num_columns\"].value_counts())\n",
    "\n",
    "print(f\"파일의 총 컬럼 개수: {len(df.columns)}\")\n",
    "\n",
    "print(df.head())\n"
   ]
  },
  {
   "cell_type": "code",
   "execution_count": null,
   "metadata": {},
   "outputs": [
    {
     "name": "stdout",
     "output_type": "stream",
     "text": [
      "['PaperID', 'DOI', 'DocType', 'Year', 'Date', 'JournalID', 'ConferenceSeriesID', 'Citation_Count', 'C10', 'Reference_Count', 'C5', 'Team_Size', 'Institution_Count', 'Disruption', 'Atyp_10pct_Z', 'Atyp_Pairs', 'Atyp_Median_Z', 'SB_B', 'SB_T', 'Patent_Count', 'Newsfeed_Count', 'Tweet_Count', 'NCT_Count', 'NIH_Count', 'NSF_Count', 'WSB_mu', 'WSB_sigma', 'WSB_Cinf\\n']\n"
     ]
    }
   ],
   "source": [
    "with open(\"I:/Data_for_practice/SciSciNet/SciSciNet_Papers.tsv\", \"r\", encoding=\"utf-8\") as f:\n",
    "    first_line = f.readline()\n",
    "    print(first_line.split(\"\\t\"))  \n"
   ]
  },
  {
   "cell_type": "code",
   "execution_count": null,
   "metadata": {},
   "outputs": [],
   "source": [
    "import pandas as pd\n",
    "\n",
    "# 원본 CSV 파일 로드\n",
    "df = pd.read_csv(\"I:/Data_for_practice/SciSciNet/SciSciNet_Papers.tsv\", sep=\"\\t\")\n",
    "\n",
    "# 50만 행씩 저장\n",
    "chunk_size = 2000000  \n",
    "for i, chunk in enumerate(range(0, len(df), chunk_size)):\n",
    "    df.iloc[chunk:chunk + chunk_size].to_csv(f\"split_{i}.csv\", sep=\"\\t\", index=False)\n"
   ]
  },
  {
   "cell_type": "code",
   "execution_count": 1,
   "metadata": {},
   "outputs": [
    {
     "name": "stdout",
     "output_type": "stream",
     "text": [
      "수정된 TSV 파일이 'I:/Data_for_practice/SciSciNet/SciSciNet_PaperDetails.tsv/SciSciNet_PaperDetails_fixed.tsv'에 저장되었습니다.\n"
     ]
    }
   ],
   "source": [
    "import csv\n",
    "\n",
    "input_file = 'I:/Data_for_practice/SciSciNet/SciSciNet_PaperDetails.tsv/SciSciNet_PaperDetails.tsv'\n",
    "output_file = 'I:/Data_for_practice/SciSciNet/SciSciNet_PaperDetails.tsv/SciSciNet_PaperDetails_fixed.tsv'\n",
    "\n",
    "with open(input_file, 'r', encoding='utf-8') as infile, \\\n",
    "     open(output_file, 'w', encoding='utf-8', newline='') as outfile:\n",
    "\n",
    "    reader = csv.reader(infile, delimiter='\\t')\n",
    "    writer = csv.writer(outfile, delimiter='\\t', quoting=csv.QUOTE_NONNUMERIC)\n",
    "\n",
    "    for row in reader:\n",
    "        writer.writerow(row)\n",
    "\n",
    "print(f\"수정된 TSV 파일이 '{output_file}'에 저장되었습니다.\")"
   ]
  }
 ],
 "metadata": {
  "kernelspec": {
   "display_name": "base",
   "language": "python",
   "name": "python3"
  },
  "language_info": {
   "codemirror_mode": {
    "name": "ipython",
    "version": 3
   },
   "file_extension": ".py",
   "mimetype": "text/x-python",
   "name": "python",
   "nbconvert_exporter": "python",
   "pygments_lexer": "ipython3",
   "version": "3.12.7"
  }
 },
 "nbformat": 4,
 "nbformat_minor": 2
}
